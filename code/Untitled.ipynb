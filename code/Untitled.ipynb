{
 "cells": [
  {
   "cell_type": "code",
   "execution_count": null,
   "metadata": {},
   "outputs": [],
   "source": [
    "def get_html(u):\n",
    "    headers = {\"User-Agent\": \"Mozilla/5.0 (Windows NT 10.0; Win64; x64) AppleWebKit/537.36 (KHTML, like Gecko) Chrome/88.0.4324.190 Safari/537.36 FS\"}\n",
    "    r = requests.get(url=u, headers=headers)\n",
    "    r.encoding = r.apparent_encoding\n",
    "    return r.text\n",
    "\n",
    "        \n",
    "        \n",
    "def save_file(url):\n",
    "    text = get_html(url)\n",
    "    soup = BeautifulSoup(text, 'lxml')\n",
    "    txt = open('try.txt', 'w', encoding='utf-8')\n",
    "    for each in soup.find_all('p'):\n",
    "        if each.string:\n",
    "            txt.writelines(each.string)\n",
    "    txt.close()\n"
   ]
  }
 ],
 "metadata": {
  "kernelspec": {
   "display_name": "Python 3",
   "language": "python",
   "name": "python3"
  },
  "language_info": {
   "codemirror_mode": {
    "name": "ipython",
    "version": 3
   },
   "file_extension": ".py",
   "mimetype": "text/x-python",
   "name": "python",
   "nbconvert_exporter": "python",
   "pygments_lexer": "ipython3",
   "version": "3.7.3"
  }
 },
 "nbformat": 4,
 "nbformat_minor": 2
}
