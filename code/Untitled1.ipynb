{
 "cells": [
  {
   "cell_type": "code",
   "execution_count": null,
   "metadata": {},
   "outputs": [],
   "source": [
    "import pandas as pd\n",
    "import matplotlib.pyplot as plt\n",
    "\n",
    "    x = year_lst\n",
    "    y = num_lst\n",
    "    plt.figure(figsize=(10, 7)) \n",
    "    plt.plot(x, y,marker='o',linestyle='dashed')\n",
    "    plt.xlabel('年/(年)')\n",
    "    plt.ylabel('数量/(份)')\n",
    "    for a,b in zip(x,y):\n",
    "        plt.text(a, b-2, '%.0f' % b, ha='center', va= 'bottom',fontsize=15)\n",
    "    plt.show()"
   ]
  }
 ],
 "metadata": {
  "kernelspec": {
   "display_name": "Python 3",
   "language": "python",
   "name": "python3"
  },
  "language_info": {
   "codemirror_mode": {
    "name": "ipython",
    "version": 3
   },
   "file_extension": ".py",
   "mimetype": "text/x-python",
   "name": "python",
   "nbconvert_exporter": "python",
   "pygments_lexer": "ipython3",
   "version": "3.7.3"
  }
 },
 "nbformat": 4,
 "nbformat_minor": 2
}
