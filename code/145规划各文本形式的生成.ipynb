{
 "cells": [
  {
   "cell_type": "code",
   "execution_count": 1,
   "metadata": {},
   "outputs": [],
   "source": [
    "import jieba\n",
    "import jieba.posseg as pseg"
   ]
  },
  {
   "cell_type": "code",
   "execution_count": 2,
   "metadata": {},
   "outputs": [
    {
     "name": "stderr",
     "output_type": "stream",
     "text": [
      "Building prefix dict from the default dictionary ...\n",
      "Loading model from cache C:\\Users\\HONEYM~1\\AppData\\Local\\Temp\\jieba.cache\n",
      "Loading model cost 1.031 seconds.\n",
      "Prefix dict has been built successfully.\n"
     ]
    }
   ],
   "source": [
    "#去除停用词和标点\n",
    "stopwords = [line.strip() for line in open('停用词.txt', 'r', encoding='utf-8').readlines()]\n",
    "with open('145.txt', 'r', encoding='utf-8') as s_file:\n",
    "    with open('n_145.txt', 'w',encoding='utf-8') as n_file:\n",
    "        for line in s_file:\n",
    "            line_seg = jieba.cut(line.strip())\n",
    "            n_str = ''\n",
    "            for word in line_seg:\n",
    "                if word not in stopwords:\n",
    "                    n_str += word\n",
    "                else:\n",
    "                    n_str += \" \"\n",
    "            n_file.write(n_str + '\\n')"
   ]
  },
  {
   "cell_type": "code",
   "execution_count": 3,
   "metadata": {},
   "outputs": [],
   "source": [
    "#还原file\n",
    "text = ''\n",
    "with open('n_145.txt','r',encoding='utf-8') as file:\n",
    "    for line in file:\n",
    "            line = line.strip()\n",
    "            text = text + line\n",
    "\n",
    "with open(\"145无空格标点.txt\",\"w\",encoding='utf-8') as f:\n",
    "    f.write(text) "
   ]
  },
  {
   "cell_type": "code",
   "execution_count": 4,
   "metadata": {},
   "outputs": [],
   "source": [
    "#格式：分词/词性并存入新txt\n",
    "lines = []\n",
    "with open('145无空格标点.txt','r',encoding='utf-8') as file:\n",
    "    with open('145分词加词性.txt','w',encoding='utf-8') as segfile:\n",
    "        for line in file:\n",
    "            line = line.strip()\n",
    "            if line != '':\n",
    "                lines.append(pseg.lcut(line))\n",
    "                for pair in pseg.lcut(line):\n",
    "                    pair = list(pair)\n",
    "                    segfile.write(pair[0] + '/' + pair[1] + ' ')\n",
    "                segfile.write('\\n')"
   ]
  },
  {
   "cell_type": "code",
   "execution_count": 5,
   "metadata": {},
   "outputs": [],
   "source": [
    "#统计词频\n",
    "word_freq = {}\n",
    "with open('145词频.txt','w',encoding='utf-8') as freqfile:\n",
    "    for line in lines:\n",
    "        for pair in line:\n",
    "            pair = list(pair)\n",
    "            if pair[0] in word_freq:\n",
    "                word_freq[pair[0]] += 1\n",
    "            else:\n",
    "                word_freq[pair[0]] = 1\n",
    "    for key in word_freq.keys():\n",
    "        freqfile.write(key + ' ' + str(word_freq[key]) + '\\n')"
   ]
  },
  {
   "cell_type": "code",
   "execution_count": 6,
   "metadata": {},
   "outputs": [],
   "source": [
    "#词频排序\n",
    "word_freq_2 = {}\n",
    "with open('145分词加词性.txt','r',encoding='utf-8') as segfile:\n",
    "    for line in segfile:\n",
    "        for pairs in line.split(' '):\n",
    "            pair = pairs.split('/')\n",
    "            if len(pair) > 1 and len(pair[0]) >=2 and pair[1] != 'v' :\n",
    "                if word_freq_2.get(pair[0]):\n",
    "                    word_freq_2[pair[0]] += 1\n",
    "                else:\n",
    "                    word_freq_2[pair[0]] = 1\n",
    "word_freq_2_list = []\n",
    "for word in word_freq_2.keys():\n",
    "    if word_freq_2[word] > 5:\n",
    "        word_freq_2_list.append([word,word_freq_2[word]])"
   ]
  },
  {
   "cell_type": "code",
   "execution_count": 7,
   "metadata": {},
   "outputs": [],
   "source": [
    "#词频存入\n",
    "#仅分词文本\n",
    "with open('final_145词频.txt','w',encoding='utf-8') as f_file:\n",
    "    for word in (sorted(word_freq_2_list, key=lambda item: item[1], reverse=True)):\n",
    "        f_file.write(word[0] + ' ')"
   ]
  },
  {
   "cell_type": "code",
   "execution_count": 8,
   "metadata": {},
   "outputs": [],
   "source": [
    "#词频存入\n",
    "#分词+词频文本\n",
    "with open('final_145词频2.txt','w',encoding='utf-8') as f_file:\n",
    "    for word in (sorted(word_freq_2_list, key=lambda item: item[1], reverse=True)):\n",
    "        f_file.write(word[0] + ' ' + str(word[1]) + '\\n')"
   ]
  },
  {
   "cell_type": "code",
   "execution_count": 9,
   "metadata": {},
   "outputs": [
    {
     "data": {
      "text/plain": [
       "['创新',\n",
       " '经济',\n",
       " '强化',\n",
       " '治理',\n",
       " '政策',\n",
       " '改革',\n",
       " '产业',\n",
       " '保障',\n",
       " '优化',\n",
       " '国际',\n",
       " '企业',\n",
       " '城市',\n",
       " '领域',\n",
       " '资源',\n",
       " '设施',\n",
       " '文化',\n",
       " '技术',\n",
       " '生态',\n",
       " '合作',\n",
       " '科技']"
      ]
     },
     "execution_count": 9,
     "metadata": {},
     "output_type": "execute_result"
    }
   ],
   "source": [
    "#主题词提取\n",
    "import jieba.analyse\n",
    "text = ''\n",
    "with open('n_145.txt',encoding='utf-8') as file:\n",
    "    text = file.read()\n",
    "jieba.analyse.textrank(text, topK=20, withWeight=False) "
   ]
  },
  {
   "cell_type": "code",
   "execution_count": 10,
   "metadata": {},
   "outputs": [
    {
     "data": {
      "text/plain": [
       "['创新',\n",
       " '治理',\n",
       " '深化',\n",
       " '生态',\n",
       " '保障',\n",
       " '优化',\n",
       " '强化',\n",
       " '产业',\n",
       " '公共服务',\n",
       " '改革',\n",
       " '政策',\n",
       " '规划',\n",
       " '领域',\n",
       " '文化',\n",
       " '设施',\n",
       " '科技',\n",
       " '基础设施',\n",
       " '区域',\n",
       " '资源',\n",
       " '经济']"
      ]
     },
     "execution_count": 10,
     "metadata": {},
     "output_type": "execute_result"
    }
   ],
   "source": [
    "#主题词提取_2 \n",
    "text = ''\n",
    "with open('n_145.txt',encoding='utf-8') as file:\n",
    "    text = file.read()\n",
    "jieba.analyse.extract_tags(text, topK=20, withWeight=False)"
   ]
  },
  {
   "cell_type": "code",
   "execution_count": null,
   "metadata": {},
   "outputs": [],
   "source": []
  }
 ],
 "metadata": {
  "kernelspec": {
   "display_name": "Python 3",
   "language": "python",
   "name": "python3"
  },
  "language_info": {
   "codemirror_mode": {
    "name": "ipython",
    "version": 3
   },
   "file_extension": ".py",
   "mimetype": "text/x-python",
   "name": "python",
   "nbconvert_exporter": "python",
   "pygments_lexer": "ipython3",
   "version": "3.7.3"
  }
 },
 "nbformat": 4,
 "nbformat_minor": 2
}
