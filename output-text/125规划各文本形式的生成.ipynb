{
 "cells": [
  {
   "cell_type": "code",
   "execution_count": 11,
   "metadata": {},
   "outputs": [],
   "source": [
    "import jieba\n",
    "import jieba.posseg as pseg"
   ]
  },
  {
   "cell_type": "code",
   "execution_count": 12,
   "metadata": {},
   "outputs": [],
   "source": [
    "#去除停用词和标点\n",
    "stopwords = [line.strip() for line in open('停用词.txt', 'r', encoding='utf-8').readlines()]\n",
    "with open('125.txt', 'r', encoding='utf-8') as s_file:\n",
    "    with open('n_125.txt', 'w') as n_file:\n",
    "        for line in s_file:\n",
    "            line_seg = jieba.cut(line.strip())\n",
    "            n_str = ''\n",
    "            for word in line_seg:\n",
    "                if word not in stopwords:\n",
    "                    n_str += word\n",
    "                else:\n",
    "                    n_str += \" \"\n",
    "            n_file.write(n_str + '\\n')"
   ]
  },
  {
   "cell_type": "code",
   "execution_count": 13,
   "metadata": {},
   "outputs": [],
   "source": [
    "#还原file\n",
    "text = ''\n",
    "with open('n_125.txt','r') as file:\n",
    "    for line in file:\n",
    "            line = line.strip()\n",
    "            text = text + line\n",
    "\n",
    "with open(\"125无空格标点.txt\",\"w\",encoding='utf-8') as f:\n",
    "    f.write(text) "
   ]
  },
  {
   "cell_type": "code",
   "execution_count": 14,
   "metadata": {},
   "outputs": [],
   "source": [
    "#格式：分词/词性并存入新txt\n",
    "lines = []\n",
    "with open('125无空格标点.txt','r',encoding='utf-8') as file:\n",
    "    with open('125分词加词性.txt','w',encoding='utf-8') as segfile:\n",
    "        for line in file:\n",
    "            line = line.strip()\n",
    "            if line != '':\n",
    "                lines.append(pseg.lcut(line))\n",
    "                for pair in pseg.lcut(line):\n",
    "                    pair = list(pair)\n",
    "                    segfile.write(pair[0] + '/' + pair[1] + ' ')\n",
    "                segfile.write('\\n')"
   ]
  },
  {
   "cell_type": "code",
   "execution_count": 15,
   "metadata": {},
   "outputs": [
    {
     "name": "stdout",
     "output_type": "stream",
     "text": [
      "词频存入\n"
     ]
    }
   ],
   "source": [
    "#统计词频\n",
    "word_freq = {}\n",
    "with open('125词频.txt','w',encoding='utf-8') as freqfile:\n",
    "    for line in lines:\n",
    "        for pair in line:\n",
    "            pair = list(pair)\n",
    "            if pair[0] in word_freq:\n",
    "                word_freq[pair[0]] += 1\n",
    "            else:\n",
    "                word_freq[pair[0]] = 1\n",
    "    for key in word_freq.keys():\n",
    "        freqfile.write(key + ' ' + str(word_freq[key]) + '\\n')\n",
    "    print('词频存入')"
   ]
  },
  {
   "cell_type": "code",
   "execution_count": 16,
   "metadata": {
    "scrolled": true
   },
   "outputs": [],
   "source": [
    "#词频排序\n",
    "word_freq_2 = {}\n",
    "with open('125分词加词性.txt','r',encoding='utf-8') as segfile:\n",
    "    for line in segfile:\n",
    "        for pairs in line.split(' '):\n",
    "            pair = pairs.split('/')\n",
    "            if len(pair) > 1 and len(pair[0]) >=2 and pair[1] != 'v' :\n",
    "                if word_freq_2.get(pair[0]):\n",
    "                    word_freq_2[pair[0]] += 1\n",
    "                else:\n",
    "                    word_freq_2[pair[0]] = 1\n",
    "word_freq_2_list = []\n",
    "for word in word_freq_2.keys():\n",
    "    if word_freq_2[word] > 5:\n",
    "        word_freq_2_list.append([word,word_freq_2[word]])"
   ]
  },
  {
   "cell_type": "code",
   "execution_count": 17,
   "metadata": {},
   "outputs": [],
   "source": [
    "#词频存入\n",
    "#仅分词文本\n",
    "with open('final_125词频.txt','w',encoding='utf-8') as f_file:\n",
    "    for word in (sorted(word_freq_2_list, key=lambda item: item[1], reverse=True)):\n",
    "        f_file.write(word[0] + ' ')"
   ]
  },
  {
   "cell_type": "code",
   "execution_count": 18,
   "metadata": {},
   "outputs": [],
   "source": [
    "#词频存入\n",
    "#分词+词频文本\n",
    "with open('final_125词频2.txt','w',encoding='utf-8') as f_file:\n",
    "    for word in (sorted(word_freq_2_list, key=lambda item: item[1], reverse=True)):\n",
    "        f_file.write(word[0] + ' ' + str(word[1]) + '\\n')"
   ]
  },
  {
   "cell_type": "code",
   "execution_count": 19,
   "metadata": {
    "scrolled": true
   },
   "outputs": [
    {
     "data": {
      "text/plain": [
       "['经济',\n",
       " '改革',\n",
       " '资源',\n",
       " '农村',\n",
       " '创新',\n",
       " '企业',\n",
       " '水平',\n",
       " '强化',\n",
       " '文化',\n",
       " '政策',\n",
       " '优化',\n",
       " '农业',\n",
       " '规划',\n",
       " '国际',\n",
       " '产业',\n",
       " '综合',\n",
       " '加大',\n",
       " '开发',\n",
       " '规范',\n",
       " '市场']"
      ]
     },
     "execution_count": 19,
     "metadata": {},
     "output_type": "execute_result"
    }
   ],
   "source": [
    "#主题词提取\n",
    "import jieba.analyse\n",
    "text = ''\n",
    "with open('n_125.txt') as file:\n",
    "    text = file.read()\n",
    "jieba.analyse.textrank(text, topK=20, withWeight=False) "
   ]
  },
  {
   "cell_type": "code",
   "execution_count": 20,
   "metadata": {},
   "outputs": [
    {
     "data": {
      "text/plain": [
       "['创新', '改革', '经济', '农村', '资源', '服务业', '公共服务', '文化', '强化', '优化']"
      ]
     },
     "execution_count": 20,
     "metadata": {},
     "output_type": "execute_result"
    }
   ],
   "source": [
    "#主题词提取_2 \n",
    "text = ''\n",
    "with open('n_125.txt') as file:\n",
    "    text = file.read()\n",
    "jieba.analyse.extract_tags(text, topK=10, withWeight=False)"
   ]
  },
  {
   "cell_type": "code",
   "execution_count": null,
   "metadata": {},
   "outputs": [],
   "source": []
  },
  {
   "cell_type": "code",
   "execution_count": null,
   "metadata": {},
   "outputs": [],
   "source": []
  }
 ],
 "metadata": {
  "kernelspec": {
   "display_name": "Python 3",
   "language": "python",
   "name": "python3"
  },
  "language_info": {
   "codemirror_mode": {
    "name": "ipython",
    "version": 3
   },
   "file_extension": ".py",
   "mimetype": "text/x-python",
   "name": "python",
   "nbconvert_exporter": "python",
   "pygments_lexer": "ipython3",
   "version": "3.7.3"
  }
 },
 "nbformat": 4,
 "nbformat_minor": 2
}
